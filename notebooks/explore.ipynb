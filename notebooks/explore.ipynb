{
 "cells": [
  {
   "cell_type": "code",
   "execution_count": 15,
   "id": "1fe4ded7-416e-4d57-a3a8-6fbcce787e0c",
   "metadata": {},
   "outputs": [],
   "source": [
    "# pip install pandas"
   ]
  },
  {
   "cell_type": "code",
   "execution_count": 16,
   "id": "742f643d",
   "metadata": {},
   "outputs": [],
   "source": [
    "import pandas as pd"
   ]
  },
  {
   "attachments": {},
   "cell_type": "markdown",
   "id": "9ddfbc1f",
   "metadata": {},
   "source": [
    "# Read data\n",
    "Read csv data from path: `data\\raw\\de_challenge_sample_data.csv`"
   ]
  },
  {
   "cell_type": "code",
   "execution_count": 17,
   "id": "268129af",
   "metadata": {},
   "outputs": [],
   "source": [
    "data = pd.read_csv('../../data/raw/de_challenge_sample_data.csv')"
   ]
  },
  {
   "attachments": {},
   "cell_type": "markdown",
   "id": "0d4fa973",
   "metadata": {},
   "source": [
    "# Inform about data\n",
    "\n",
    "Start by getting a feeling for the data by looking at the first few rows."
   ]
  },
  {
   "cell_type": "code",
   "execution_count": 18,
   "id": "818c04e7",
   "metadata": {},
   "outputs": [
    {
     "data": {
      "text/html": [
       "<div>\n",
       "<style scoped>\n",
       "    .dataframe tbody tr th:only-of-type {\n",
       "        vertical-align: middle;\n",
       "    }\n",
       "\n",
       "    .dataframe tbody tr th {\n",
       "        vertical-align: top;\n",
       "    }\n",
       "\n",
       "    .dataframe thead th {\n",
       "        text-align: right;\n",
       "    }\n",
       "</style>\n",
       "<table border=\"1\" class=\"dataframe\">\n",
       "  <thead>\n",
       "    <tr style=\"text-align: right;\">\n",
       "      <th></th>\n",
       "      <th>Unnamed: 0</th>\n",
       "      <th>$schema</th>\n",
       "      <th>id</th>\n",
       "      <th>type</th>\n",
       "      <th>namespace</th>\n",
       "      <th>title</th>\n",
       "      <th>comment</th>\n",
       "      <th>timestamp</th>\n",
       "      <th>user</th>\n",
       "      <th>bot</th>\n",
       "      <th>...</th>\n",
       "      <th>meta_stream</th>\n",
       "      <th>meta_topic</th>\n",
       "      <th>meta_dt</th>\n",
       "      <th>meta_partition</th>\n",
       "      <th>meta_offset</th>\n",
       "      <th>meta_id</th>\n",
       "      <th>length_old</th>\n",
       "      <th>length_new</th>\n",
       "      <th>revision_old</th>\n",
       "      <th>revision_new</th>\n",
       "    </tr>\n",
       "  </thead>\n",
       "  <tbody>\n",
       "    <tr>\n",
       "      <th>0</th>\n",
       "      <td>0</td>\n",
       "      <td>/mediawiki/recentchange/1.0.0</td>\n",
       "      <td>1389063095</td>\n",
       "      <td>edit</td>\n",
       "      <td>0</td>\n",
       "      <td>Q104971167</td>\n",
       "      <td>/* wbeditentity-update-languages-short:0||nl *...</td>\n",
       "      <td>1611249080</td>\n",
       "      <td>Edoderoobot</td>\n",
       "      <td>True</td>\n",
       "      <td>...</td>\n",
       "      <td>mediawiki.recentchange</td>\n",
       "      <td>eqiad.mediawiki.recentchange</td>\n",
       "      <td>2021-01-21T17:11:20Z</td>\n",
       "      <td>0</td>\n",
       "      <td>2887301727</td>\n",
       "      <td>a62392d6-25d3-405c-9d6c-54956eb60a52</td>\n",
       "      <td>3781</td>\n",
       "      <td>3860</td>\n",
       "      <td>1345581201</td>\n",
       "      <td>1345601868</td>\n",
       "    </tr>\n",
       "    <tr>\n",
       "      <th>1</th>\n",
       "      <td>0</td>\n",
       "      <td>/mediawiki/recentchange/1.0.0</td>\n",
       "      <td>116494285</td>\n",
       "      <td>edit</td>\n",
       "      <td>0</td>\n",
       "      <td>Acanthastrea erythraea</td>\n",
       "      <td>[[Wikipedia:Geen samenvatting|Verwijst door]] ...</td>\n",
       "      <td>1611249078</td>\n",
       "      <td>Kvdrgeus</td>\n",
       "      <td>False</td>\n",
       "      <td>...</td>\n",
       "      <td>mediawiki.recentchange</td>\n",
       "      <td>eqiad.mediawiki.recentchange</td>\n",
       "      <td>2021-01-21T17:11:18Z</td>\n",
       "      <td>0</td>\n",
       "      <td>2887301728</td>\n",
       "      <td>f6acf301-d987-4d7b-85fe-d2c3cb486ffb</td>\n",
       "      <td>866</td>\n",
       "      <td>65</td>\n",
       "      <td>48016794</td>\n",
       "      <td>58091518</td>\n",
       "    </tr>\n",
       "    <tr>\n",
       "      <th>2</th>\n",
       "      <td>0</td>\n",
       "      <td>/mediawiki/recentchange/1.0.0</td>\n",
       "      <td>119689610</td>\n",
       "      <td>edit</td>\n",
       "      <td>0</td>\n",
       "      <td>神楽シリーズ</td>\n",
       "      <td>/* シリーズ作品 */</td>\n",
       "      <td>1611249080</td>\n",
       "      <td>Zaco9876</td>\n",
       "      <td>False</td>\n",
       "      <td>...</td>\n",
       "      <td>mediawiki.recentchange</td>\n",
       "      <td>eqiad.mediawiki.recentchange</td>\n",
       "      <td>2021-01-21T17:11:20Z</td>\n",
       "      <td>0</td>\n",
       "      <td>2887301732</td>\n",
       "      <td>6f36af6f-f84b-421c-bd5d-ebc2eef54f0f</td>\n",
       "      <td>22851</td>\n",
       "      <td>22855</td>\n",
       "      <td>81442784</td>\n",
       "      <td>81442790</td>\n",
       "    </tr>\n",
       "    <tr>\n",
       "      <th>3</th>\n",
       "      <td>0</td>\n",
       "      <td>/mediawiki/recentchange/1.0.0</td>\n",
       "      <td>283652737</td>\n",
       "      <td>edit</td>\n",
       "      <td>0</td>\n",
       "      <td>Nana &amp; Kaoru</td>\n",
       "      <td>Aggiornamento numero volumi pubblicati.</td>\n",
       "      <td>1611249080</td>\n",
       "      <td>Pazio Paz</td>\n",
       "      <td>False</td>\n",
       "      <td>...</td>\n",
       "      <td>mediawiki.recentchange</td>\n",
       "      <td>eqiad.mediawiki.recentchange</td>\n",
       "      <td>2021-01-21T17:11:20Z</td>\n",
       "      <td>0</td>\n",
       "      <td>2887301735</td>\n",
       "      <td>ffc41bdc-1bb8-4c1b-af88-cb066687d441</td>\n",
       "      <td>31030</td>\n",
       "      <td>31030</td>\n",
       "      <td>118007674</td>\n",
       "      <td>118137110</td>\n",
       "    </tr>\n",
       "    <tr>\n",
       "      <th>4</th>\n",
       "      <td>0</td>\n",
       "      <td>/mediawiki/recentchange/1.0.0</td>\n",
       "      <td>1389063094</td>\n",
       "      <td>edit</td>\n",
       "      <td>0</td>\n",
       "      <td>Q37914681</td>\n",
       "      <td>/* wbsetdescription-add:1|bn */ রাশিয়ার একটি ...</td>\n",
       "      <td>1611249080</td>\n",
       "      <td>Tahmid02016</td>\n",
       "      <td>False</td>\n",
       "      <td>...</td>\n",
       "      <td>mediawiki.recentchange</td>\n",
       "      <td>eqiad.mediawiki.recentchange</td>\n",
       "      <td>2021-01-21T17:11:20Z</td>\n",
       "      <td>0</td>\n",
       "      <td>2887301737</td>\n",
       "      <td>10a1a1da-da51-4991-b248-4f3365d5aaf2</td>\n",
       "      <td>6582</td>\n",
       "      <td>6688</td>\n",
       "      <td>898245132</td>\n",
       "      <td>1345601865</td>\n",
       "    </tr>\n",
       "  </tbody>\n",
       "</table>\n",
       "<p>5 rows × 30 columns</p>\n",
       "</div>"
      ],
      "text/plain": [
       "   Unnamed: 0                        $schema          id  type  namespace  \\\n",
       "0           0  /mediawiki/recentchange/1.0.0  1389063095  edit          0   \n",
       "1           0  /mediawiki/recentchange/1.0.0   116494285  edit          0   \n",
       "2           0  /mediawiki/recentchange/1.0.0   119689610  edit          0   \n",
       "3           0  /mediawiki/recentchange/1.0.0   283652737  edit          0   \n",
       "4           0  /mediawiki/recentchange/1.0.0  1389063094  edit          0   \n",
       "\n",
       "                    title                                            comment  \\\n",
       "0              Q104971167  /* wbeditentity-update-languages-short:0||nl *...   \n",
       "1  Acanthastrea erythraea  [[Wikipedia:Geen samenvatting|Verwijst door]] ...   \n",
       "2                  神楽シリーズ                                       /* シリーズ作品 */   \n",
       "3            Nana & Kaoru            Aggiornamento numero volumi pubblicati.   \n",
       "4               Q37914681  /* wbsetdescription-add:1|bn */ রাশিয়ার একটি ...   \n",
       "\n",
       "    timestamp         user    bot  ...             meta_stream  \\\n",
       "0  1611249080  Edoderoobot   True  ...  mediawiki.recentchange   \n",
       "1  1611249078     Kvdrgeus  False  ...  mediawiki.recentchange   \n",
       "2  1611249080     Zaco9876  False  ...  mediawiki.recentchange   \n",
       "3  1611249080    Pazio Paz  False  ...  mediawiki.recentchange   \n",
       "4  1611249080  Tahmid02016  False  ...  mediawiki.recentchange   \n",
       "\n",
       "                     meta_topic               meta_dt meta_partition  \\\n",
       "0  eqiad.mediawiki.recentchange  2021-01-21T17:11:20Z              0   \n",
       "1  eqiad.mediawiki.recentchange  2021-01-21T17:11:18Z              0   \n",
       "2  eqiad.mediawiki.recentchange  2021-01-21T17:11:20Z              0   \n",
       "3  eqiad.mediawiki.recentchange  2021-01-21T17:11:20Z              0   \n",
       "4  eqiad.mediawiki.recentchange  2021-01-21T17:11:20Z              0   \n",
       "\n",
       "  meta_offset                               meta_id length_old length_new  \\\n",
       "0  2887301727  a62392d6-25d3-405c-9d6c-54956eb60a52       3781       3860   \n",
       "1  2887301728  f6acf301-d987-4d7b-85fe-d2c3cb486ffb        866         65   \n",
       "2  2887301732  6f36af6f-f84b-421c-bd5d-ebc2eef54f0f      22851      22855   \n",
       "3  2887301735  ffc41bdc-1bb8-4c1b-af88-cb066687d441      31030      31030   \n",
       "4  2887301737  10a1a1da-da51-4991-b248-4f3365d5aaf2       6582       6688   \n",
       "\n",
       "  revision_old revision_new  \n",
       "0   1345581201   1345601868  \n",
       "1     48016794     58091518  \n",
       "2     81442784     81442790  \n",
       "3    118007674    118137110  \n",
       "4    898245132   1345601865  \n",
       "\n",
       "[5 rows x 30 columns]"
      ]
     },
     "execution_count": 18,
     "metadata": {},
     "output_type": "execute_result"
    }
   ],
   "source": [
    "data.head()"
   ]
  },
  {
   "cell_type": "code",
   "execution_count": 19,
   "id": "672392f7",
   "metadata": {},
   "outputs": [
    {
     "name": "stdout",
     "output_type": "stream",
     "text": [
      "<class 'pandas.core.frame.DataFrame'>\n",
      "RangeIndex: 1000 entries, 0 to 999\n",
      "Data columns (total 30 columns):\n",
      " #   Column              Non-Null Count  Dtype \n",
      "---  ------              --------------  ----- \n",
      " 0   Unnamed: 0          1000 non-null   int64 \n",
      " 1   $schema             1000 non-null   object\n",
      " 2   id                  1000 non-null   int64 \n",
      " 3   type                1000 non-null   object\n",
      " 4   namespace           1000 non-null   int64 \n",
      " 5   title               1000 non-null   object\n",
      " 6   comment             883 non-null    object\n",
      " 7   timestamp           1000 non-null   int64 \n",
      " 8   user                1000 non-null   object\n",
      " 9   bot                 1000 non-null   bool  \n",
      " 10  minor               1000 non-null   bool  \n",
      " 11  patrolled           698 non-null    object\n",
      " 12  server_url          1000 non-null   object\n",
      " 13  server_name         1000 non-null   object\n",
      " 14  server_script_path  1000 non-null   object\n",
      " 15  wiki                1000 non-null   object\n",
      " 16  parsedcomment       883 non-null    object\n",
      " 17  meta_domain         1000 non-null   object\n",
      " 18  meta_uri            1000 non-null   object\n",
      " 19  meta_request_id     1000 non-null   object\n",
      " 20  meta_stream         1000 non-null   object\n",
      " 21  meta_topic          1000 non-null   object\n",
      " 22  meta_dt             1000 non-null   object\n",
      " 23  meta_partition      1000 non-null   int64 \n",
      " 24  meta_offset         1000 non-null   int64 \n",
      " 25  meta_id             1000 non-null   object\n",
      " 26  length_old          1000 non-null   int64 \n",
      " 27  length_new          1000 non-null   int64 \n",
      " 28  revision_old        1000 non-null   int64 \n",
      " 29  revision_new        1000 non-null   int64 \n",
      "dtypes: bool(2), int64(10), object(18)\n",
      "memory usage: 220.8+ KB\n"
     ]
    }
   ],
   "source": [
    "# Get further info about the data\n",
    "# Get info like number of rows, columns, data types, etc.\n",
    "\n",
    "data.info()"
   ]
  },
  {
   "cell_type": "code",
   "execution_count": 20,
   "id": "1d0f1502",
   "metadata": {},
   "outputs": [
    {
     "data": {
      "text/plain": [
       "Index(['Unnamed: 0', '$schema', 'id', 'type', 'namespace', 'title', 'comment',\n",
       "       'timestamp', 'user', 'bot', 'minor', 'patrolled', 'server_url',\n",
       "       'server_name', 'server_script_path', 'wiki', 'parsedcomment',\n",
       "       'meta_domain', 'meta_uri', 'meta_request_id', 'meta_stream',\n",
       "       'meta_topic', 'meta_dt', 'meta_partition', 'meta_offset', 'meta_id',\n",
       "       'length_old', 'length_new', 'revision_old', 'revision_new'],\n",
       "      dtype='object')"
      ]
     },
     "execution_count": 20,
     "metadata": {},
     "output_type": "execute_result"
    }
   ],
   "source": [
    "# get all column names\n",
    "data.columns"
   ]
  },
  {
   "cell_type": "code",
   "execution_count": 21,
   "id": "0397f2cc",
   "metadata": {},
   "outputs": [
    {
     "data": {
      "text/plain": [
       "array([True, False, nan], dtype=object)"
      ]
     },
     "execution_count": 21,
     "metadata": {},
     "output_type": "execute_result"
    }
   ],
   "source": [
    "data.patrolled.unique()"
   ]
  },
  {
   "cell_type": "code",
   "execution_count": 26,
   "id": "6975a096",
   "metadata": {},
   "outputs": [
    {
     "data": {
      "text/plain": [
       "array(['wikidatawiki', 'nlwiki', 'jawiki', 'itwiki', 'eswiki', 'enwiki',\n",
       "       'ltwiki', 'arzwiki', 'zhwiki', 'enwiktionary', 'dewiki',\n",
       "       'commonswiki', 'arwiki', 'svwiki', 'huwiki', 'frwiki', 'urwiki',\n",
       "       'simplewiki', 'viwiki', 'cswiki', 'ukwiki', 'ruwiki', 'mkwiki',\n",
       "       'bawiki', 'ruwiktionary', 'plwiki', 'mlwiki', 'ptwiki',\n",
       "       'mediawikiwiki', 'zh_yuewiki', 'cawiki', 'kawiki', 'hewiki',\n",
       "       'be_x_oldwiki', 'frwikisource', 'lvwiki', 'dawiki', 'itwiktionary',\n",
       "       'eowiki', 'metawiki', 'idwiki', 'afwiki', 'frwiktionary', 'fawiki',\n",
       "       'srwiki', 'bgwiki', 'tawiki', 'diqwiki', 'ruwikinews', 'wawiki',\n",
       "       'hrwiki', 'azwiki', 'fiwiki', 'enwikisource', 'trwiki', 'rowiki',\n",
       "       'cebwiki', 'nlwikibooks', 'tewiki', 'skwiki', 'nowiki',\n",
       "       'hiwikisource', 'nnwiki'], dtype=object)"
      ]
     },
     "execution_count": 26,
     "metadata": {},
     "output_type": "execute_result"
    }
   ],
   "source": [
    "data.wiki.unique()"
   ]
  },
  {
   "attachments": {},
   "cell_type": "markdown",
   "id": "684fca63",
   "metadata": {},
   "source": [
    "# 3. Start analysis\n",
    "\n",
    "First I want to know for idenfier columns like \"type\" what types of values are in there. This could be used to create different kafka topics."
   ]
  },
  {
   "attachments": {},
   "cell_type": "markdown",
   "id": "6e0f4e4f",
   "metadata": {},
   "source": [
    "## 3.1. `type`\n",
    "\n",
    "Assumption: \n",
    "- 'Type' seemed to be a column which may allow to create a topic for \"edit\", \"delete\", \"create\" events.\n",
    "\n",
    "Result: \n",
    "- But the column only has 'edit' values. So doesn't make sense to create a topic for this column."
   ]
  },
  {
   "cell_type": "code",
   "execution_count": 23,
   "id": "882aaf90",
   "metadata": {},
   "outputs": [
    {
     "data": {
      "text/plain": [
       "array(['edit'], dtype=object)"
      ]
     },
     "execution_count": 23,
     "metadata": {},
     "output_type": "execute_result"
    }
   ],
   "source": [
    "data.type.unique()"
   ]
  },
  {
   "attachments": {},
   "cell_type": "markdown",
   "id": "015718ab",
   "metadata": {},
   "source": [
    "## 3.2 `bot`\n",
    "\n",
    "Assumption:\n",
    "- 'bot' seemed to be a column which may allow to create a topic for \"bot=true\" and \"bot=false\" events.\n",
    "\n",
    "Result:\n",
    "- The column has both true (~27%) and false (~72%) values. So it makes sense to _consider_ creating a topic for this column."
   ]
  },
  {
   "cell_type": "code",
   "execution_count": 24,
   "id": "302b3d0c",
   "metadata": {},
   "outputs": [
    {
     "data": {
      "text/plain": [
       "bot\n",
       "False    724\n",
       "True     276\n",
       "Name: count, dtype: int64"
      ]
     },
     "execution_count": 24,
     "metadata": {},
     "output_type": "execute_result"
    }
   ],
   "source": [
    "data.bot.value_counts()"
   ]
  },
  {
   "cell_type": "code",
   "execution_count": 25,
   "id": "344f888c",
   "metadata": {},
   "outputs": [
    {
     "data": {
      "text/plain": [
       "array(['/mediawiki/recentchange/1.0.0'], dtype=object)"
      ]
     },
     "execution_count": 25,
     "metadata": {},
     "output_type": "execute_result"
    }
   ],
   "source": [
    "data[\"$schema\"].unique()"
   ]
  }
 ],
 "metadata": {
  "kernelspec": {
   "display_name": "Python 3 (ipykernel)",
   "language": "python",
   "name": "python3"
  },
  "language_info": {
   "codemirror_mode": {
    "name": "ipython",
    "version": 3
   },
   "file_extension": ".py",
   "mimetype": "text/x-python",
   "name": "python",
   "nbconvert_exporter": "python",
   "pygments_lexer": "ipython3",
   "version": "3.11.3"
  }
 },
 "nbformat": 4,
 "nbformat_minor": 5
}
